{
 "cells": [
  {
   "cell_type": "code",
   "execution_count": 8,
   "id": "72129f0a",
   "metadata": {
    "execution": {
     "iopub.execute_input": "2023-08-10T14:58:49.596024Z",
     "iopub.status.busy": "2023-08-10T14:58:49.595063Z",
     "iopub.status.idle": "2023-08-10T14:58:51.686479Z",
     "shell.execute_reply": "2023-08-10T14:58:51.684923Z"
    },
    "papermill": {
     "duration": 2.11924,
     "end_time": "2023-08-10T14:58:51.689977",
     "exception": false,
     "start_time": "2023-08-10T14:58:49.570737",
     "status": "completed"
    },
    "tags": []
   },
   "outputs": [],
   "source": [
    "import numpy as np \n",
    "import matplotlib.pyplot as plt\n",
    "import seaborn as sns\n",
    "import pandas as pd\n",
    "%matplotlib inline\n",
    "sns.set()\n",
    "import warnings\n",
    "warnings.filterwarnings('ignore')\n",
    "from sklearn.linear_model import LogisticRegression\n",
    "from sklearn.model_selection import train_test_split\n",
    "from sklearn.ensemble import RandomForestClassifier,AdaBoostClassifier,GradientBoostingClassifier\n",
    "from sklearn.metrics import classification_report\n",
    "from sklearn.svm import SVC\n",
    "from sklearn.preprocessing import StandardScaler\n",
    "from sklearn.model_selection import GridSearchCV"
   ]
  },
  {
   "cell_type": "markdown",
   "id": "5661936f",
   "metadata": {
    "papermill": {
     "duration": 0.021184,
     "end_time": "2023-08-10T14:58:51.732261",
     "exception": false,
     "start_time": "2023-08-10T14:58:51.711077",
     "status": "completed"
    },
    "tags": []
   },
   "source": [
    "## Getting the data"
   ]
  },
  {
   "cell_type": "code",
   "execution_count": 9,
   "id": "efcf911e",
   "metadata": {
    "execution": {
     "iopub.execute_input": "2023-08-10T14:58:51.781726Z",
     "iopub.status.busy": "2023-08-10T14:58:51.780833Z",
     "iopub.status.idle": "2023-08-10T14:58:51.837353Z",
     "shell.execute_reply": "2023-08-10T14:58:51.835884Z"
    },
    "papermill": {
     "duration": 0.087042,
     "end_time": "2023-08-10T14:58:51.840498",
     "exception": false,
     "start_time": "2023-08-10T14:58:51.753456",
     "status": "completed"
    },
    "tags": []
   },
   "outputs": [
    {
     "data": {
      "text/html": [
       "<div>\n",
       "<style scoped>\n",
       "    .dataframe tbody tr th:only-of-type {\n",
       "        vertical-align: middle;\n",
       "    }\n",
       "\n",
       "    .dataframe tbody tr th {\n",
       "        vertical-align: top;\n",
       "    }\n",
       "\n",
       "    .dataframe thead th {\n",
       "        text-align: right;\n",
       "    }\n",
       "</style>\n",
       "<table border=\"1\" class=\"dataframe\">\n",
       "  <thead>\n",
       "    <tr style=\"text-align: right;\">\n",
       "      <th></th>\n",
       "      <th>PassengerId</th>\n",
       "      <th>Survived</th>\n",
       "      <th>Pclass</th>\n",
       "      <th>Name</th>\n",
       "      <th>Sex</th>\n",
       "      <th>Age</th>\n",
       "      <th>SibSp</th>\n",
       "      <th>Parch</th>\n",
       "      <th>Ticket</th>\n",
       "      <th>Fare</th>\n",
       "      <th>Cabin</th>\n",
       "      <th>Embarked</th>\n",
       "    </tr>\n",
       "  </thead>\n",
       "  <tbody>\n",
       "    <tr>\n",
       "      <th>0</th>\n",
       "      <td>1</td>\n",
       "      <td>0</td>\n",
       "      <td>3</td>\n",
       "      <td>Braund, Mr. Owen Harris</td>\n",
       "      <td>male</td>\n",
       "      <td>22.0</td>\n",
       "      <td>1</td>\n",
       "      <td>0</td>\n",
       "      <td>A/5 21171</td>\n",
       "      <td>7.2500</td>\n",
       "      <td>NaN</td>\n",
       "      <td>S</td>\n",
       "    </tr>\n",
       "    <tr>\n",
       "      <th>1</th>\n",
       "      <td>2</td>\n",
       "      <td>1</td>\n",
       "      <td>1</td>\n",
       "      <td>Cumings, Mrs. John Bradley (Florence Briggs Th...</td>\n",
       "      <td>female</td>\n",
       "      <td>38.0</td>\n",
       "      <td>1</td>\n",
       "      <td>0</td>\n",
       "      <td>PC 17599</td>\n",
       "      <td>71.2833</td>\n",
       "      <td>C85</td>\n",
       "      <td>C</td>\n",
       "    </tr>\n",
       "    <tr>\n",
       "      <th>2</th>\n",
       "      <td>3</td>\n",
       "      <td>1</td>\n",
       "      <td>3</td>\n",
       "      <td>Heikkinen, Miss. Laina</td>\n",
       "      <td>female</td>\n",
       "      <td>26.0</td>\n",
       "      <td>0</td>\n",
       "      <td>0</td>\n",
       "      <td>STON/O2. 3101282</td>\n",
       "      <td>7.9250</td>\n",
       "      <td>NaN</td>\n",
       "      <td>S</td>\n",
       "    </tr>\n",
       "    <tr>\n",
       "      <th>3</th>\n",
       "      <td>4</td>\n",
       "      <td>1</td>\n",
       "      <td>1</td>\n",
       "      <td>Futrelle, Mrs. Jacques Heath (Lily May Peel)</td>\n",
       "      <td>female</td>\n",
       "      <td>35.0</td>\n",
       "      <td>1</td>\n",
       "      <td>0</td>\n",
       "      <td>113803</td>\n",
       "      <td>53.1000</td>\n",
       "      <td>C123</td>\n",
       "      <td>S</td>\n",
       "    </tr>\n",
       "    <tr>\n",
       "      <th>4</th>\n",
       "      <td>5</td>\n",
       "      <td>0</td>\n",
       "      <td>3</td>\n",
       "      <td>Allen, Mr. William Henry</td>\n",
       "      <td>male</td>\n",
       "      <td>35.0</td>\n",
       "      <td>0</td>\n",
       "      <td>0</td>\n",
       "      <td>373450</td>\n",
       "      <td>8.0500</td>\n",
       "      <td>NaN</td>\n",
       "      <td>S</td>\n",
       "    </tr>\n",
       "  </tbody>\n",
       "</table>\n",
       "</div>"
      ],
      "text/plain": [
       "   PassengerId  Survived  Pclass  \\\n",
       "0            1         0       3   \n",
       "1            2         1       1   \n",
       "2            3         1       3   \n",
       "3            4         1       1   \n",
       "4            5         0       3   \n",
       "\n",
       "                                                Name     Sex   Age  SibSp  \\\n",
       "0                            Braund, Mr. Owen Harris    male  22.0      1   \n",
       "1  Cumings, Mrs. John Bradley (Florence Briggs Th...  female  38.0      1   \n",
       "2                             Heikkinen, Miss. Laina  female  26.0      0   \n",
       "3       Futrelle, Mrs. Jacques Heath (Lily May Peel)  female  35.0      1   \n",
       "4                           Allen, Mr. William Henry    male  35.0      0   \n",
       "\n",
       "   Parch            Ticket     Fare Cabin Embarked  \n",
       "0      0         A/5 21171   7.2500   NaN        S  \n",
       "1      0          PC 17599  71.2833   C85        C  \n",
       "2      0  STON/O2. 3101282   7.9250   NaN        S  \n",
       "3      0            113803  53.1000  C123        S  \n",
       "4      0            373450   8.0500   NaN        S  "
      ]
     },
     "execution_count": 9,
     "metadata": {},
     "output_type": "execute_result"
    }
   ],
   "source": [
    "train_data=pd.read_csv('train.csv')\n",
    "train_data.head()"
   ]
  },
  {
   "cell_type": "markdown",
   "id": "e4b02e7d",
   "metadata": {
    "papermill": {
     "duration": 0.021442,
     "end_time": "2023-08-10T14:58:51.962214",
     "exception": false,
     "start_time": "2023-08-10T14:58:51.940772",
     "status": "completed"
    },
    "tags": []
   },
   "source": [
    "## Knowing the data"
   ]
  },
  {
   "cell_type": "code",
   "execution_count": 10,
   "id": "37603d97",
   "metadata": {
    "execution": {
     "iopub.execute_input": "2023-08-10T14:58:52.009064Z",
     "iopub.status.busy": "2023-08-10T14:58:52.008203Z",
     "iopub.status.idle": "2023-08-10T14:58:52.040289Z",
     "shell.execute_reply": "2023-08-10T14:58:52.038191Z"
    },
    "papermill": {
     "duration": 0.059453,
     "end_time": "2023-08-10T14:58:52.043354",
     "exception": false,
     "start_time": "2023-08-10T14:58:51.983901",
     "status": "completed"
    },
    "tags": []
   },
   "outputs": [
    {
     "name": "stdout",
     "output_type": "stream",
     "text": [
      "<class 'pandas.core.frame.DataFrame'>\n",
      "RangeIndex: 891 entries, 0 to 890\n",
      "Data columns (total 12 columns):\n",
      " #   Column       Non-Null Count  Dtype  \n",
      "---  ------       --------------  -----  \n",
      " 0   PassengerId  891 non-null    int64  \n",
      " 1   Survived     891 non-null    int64  \n",
      " 2   Pclass       891 non-null    int64  \n",
      " 3   Name         891 non-null    object \n",
      " 4   Sex          891 non-null    object \n",
      " 5   Age          714 non-null    float64\n",
      " 6   SibSp        891 non-null    int64  \n",
      " 7   Parch        891 non-null    int64  \n",
      " 8   Ticket       891 non-null    object \n",
      " 9   Fare         891 non-null    float64\n",
      " 10  Cabin        204 non-null    object \n",
      " 11  Embarked     889 non-null    object \n",
      "dtypes: float64(2), int64(5), object(5)\n",
      "memory usage: 83.7+ KB\n"
     ]
    }
   ],
   "source": [
    "train_data.info()"
   ]
  },
  {
   "cell_type": "code",
   "execution_count": 11,
   "id": "1fe08c99",
   "metadata": {
    "execution": {
     "iopub.execute_input": "2023-08-10T14:58:52.157877Z",
     "iopub.status.busy": "2023-08-10T14:58:52.157373Z",
     "iopub.status.idle": "2023-08-10T14:58:52.198423Z",
     "shell.execute_reply": "2023-08-10T14:58:52.196939Z"
    },
    "papermill": {
     "duration": 0.06888,
     "end_time": "2023-08-10T14:58:52.201959",
     "exception": false,
     "start_time": "2023-08-10T14:58:52.133079",
     "status": "completed"
    },
    "tags": []
   },
   "outputs": [
    {
     "data": {
      "text/html": [
       "<div>\n",
       "<style scoped>\n",
       "    .dataframe tbody tr th:only-of-type {\n",
       "        vertical-align: middle;\n",
       "    }\n",
       "\n",
       "    .dataframe tbody tr th {\n",
       "        vertical-align: top;\n",
       "    }\n",
       "\n",
       "    .dataframe thead th {\n",
       "        text-align: right;\n",
       "    }\n",
       "</style>\n",
       "<table border=\"1\" class=\"dataframe\">\n",
       "  <thead>\n",
       "    <tr style=\"text-align: right;\">\n",
       "      <th></th>\n",
       "      <th>PassengerId</th>\n",
       "      <th>Survived</th>\n",
       "      <th>Pclass</th>\n",
       "      <th>Age</th>\n",
       "      <th>SibSp</th>\n",
       "      <th>Parch</th>\n",
       "      <th>Fare</th>\n",
       "    </tr>\n",
       "  </thead>\n",
       "  <tbody>\n",
       "    <tr>\n",
       "      <th>count</th>\n",
       "      <td>891.000000</td>\n",
       "      <td>891.000000</td>\n",
       "      <td>891.000000</td>\n",
       "      <td>714.000000</td>\n",
       "      <td>891.000000</td>\n",
       "      <td>891.000000</td>\n",
       "      <td>891.000000</td>\n",
       "    </tr>\n",
       "    <tr>\n",
       "      <th>mean</th>\n",
       "      <td>446.000000</td>\n",
       "      <td>0.383838</td>\n",
       "      <td>2.308642</td>\n",
       "      <td>29.699118</td>\n",
       "      <td>0.523008</td>\n",
       "      <td>0.381594</td>\n",
       "      <td>32.204208</td>\n",
       "    </tr>\n",
       "    <tr>\n",
       "      <th>std</th>\n",
       "      <td>257.353842</td>\n",
       "      <td>0.486592</td>\n",
       "      <td>0.836071</td>\n",
       "      <td>14.526497</td>\n",
       "      <td>1.102743</td>\n",
       "      <td>0.806057</td>\n",
       "      <td>49.693429</td>\n",
       "    </tr>\n",
       "    <tr>\n",
       "      <th>min</th>\n",
       "      <td>1.000000</td>\n",
       "      <td>0.000000</td>\n",
       "      <td>1.000000</td>\n",
       "      <td>0.420000</td>\n",
       "      <td>0.000000</td>\n",
       "      <td>0.000000</td>\n",
       "      <td>0.000000</td>\n",
       "    </tr>\n",
       "    <tr>\n",
       "      <th>25%</th>\n",
       "      <td>223.500000</td>\n",
       "      <td>0.000000</td>\n",
       "      <td>2.000000</td>\n",
       "      <td>20.125000</td>\n",
       "      <td>0.000000</td>\n",
       "      <td>0.000000</td>\n",
       "      <td>7.910400</td>\n",
       "    </tr>\n",
       "    <tr>\n",
       "      <th>50%</th>\n",
       "      <td>446.000000</td>\n",
       "      <td>0.000000</td>\n",
       "      <td>3.000000</td>\n",
       "      <td>28.000000</td>\n",
       "      <td>0.000000</td>\n",
       "      <td>0.000000</td>\n",
       "      <td>14.454200</td>\n",
       "    </tr>\n",
       "    <tr>\n",
       "      <th>75%</th>\n",
       "      <td>668.500000</td>\n",
       "      <td>1.000000</td>\n",
       "      <td>3.000000</td>\n",
       "      <td>38.000000</td>\n",
       "      <td>1.000000</td>\n",
       "      <td>0.000000</td>\n",
       "      <td>31.000000</td>\n",
       "    </tr>\n",
       "    <tr>\n",
       "      <th>max</th>\n",
       "      <td>891.000000</td>\n",
       "      <td>1.000000</td>\n",
       "      <td>3.000000</td>\n",
       "      <td>80.000000</td>\n",
       "      <td>8.000000</td>\n",
       "      <td>6.000000</td>\n",
       "      <td>512.329200</td>\n",
       "    </tr>\n",
       "  </tbody>\n",
       "</table>\n",
       "</div>"
      ],
      "text/plain": [
       "       PassengerId    Survived      Pclass         Age       SibSp  \\\n",
       "count   891.000000  891.000000  891.000000  714.000000  891.000000   \n",
       "mean    446.000000    0.383838    2.308642   29.699118    0.523008   \n",
       "std     257.353842    0.486592    0.836071   14.526497    1.102743   \n",
       "min       1.000000    0.000000    1.000000    0.420000    0.000000   \n",
       "25%     223.500000    0.000000    2.000000   20.125000    0.000000   \n",
       "50%     446.000000    0.000000    3.000000   28.000000    0.000000   \n",
       "75%     668.500000    1.000000    3.000000   38.000000    1.000000   \n",
       "max     891.000000    1.000000    3.000000   80.000000    8.000000   \n",
       "\n",
       "            Parch        Fare  \n",
       "count  891.000000  891.000000  \n",
       "mean     0.381594   32.204208  \n",
       "std      0.806057   49.693429  \n",
       "min      0.000000    0.000000  \n",
       "25%      0.000000    7.910400  \n",
       "50%      0.000000   14.454200  \n",
       "75%      0.000000   31.000000  \n",
       "max      6.000000  512.329200  "
      ]
     },
     "execution_count": 11,
     "metadata": {},
     "output_type": "execute_result"
    }
   ],
   "source": [
    "train_data.describe()"
   ]
  },
  {
   "cell_type": "code",
   "execution_count": 12,
   "id": "cf20ecfb",
   "metadata": {
    "execution": {
     "iopub.execute_input": "2023-08-10T14:58:52.249366Z",
     "iopub.status.busy": "2023-08-10T14:58:52.248551Z",
     "iopub.status.idle": "2023-08-10T14:58:52.462068Z",
     "shell.execute_reply": "2023-08-10T14:58:52.460650Z"
    },
    "papermill": {
     "duration": 0.240135,
     "end_time": "2023-08-10T14:58:52.464891",
     "exception": false,
     "start_time": "2023-08-10T14:58:52.224756",
     "status": "completed"
    },
    "tags": []
   },
   "outputs": [
    {
     "data": {
      "text/plain": [
       "<Axes: ylabel='count'>"
      ]
     },
     "execution_count": 12,
     "metadata": {},
     "output_type": "execute_result"
    },
    {
     "data": {
      "image/png": "[encoded data removed]",
      "text/plain": [
       "<Figure size 640x480 with 1 Axes>"
      ]
     },
     "metadata": {},
     "output_type": "display_data"
    }
   ],
   "source": [
    "# Checking our target column\n",
    "sns.countplot(train_data['Survived'])"
   ]
  },
  {
   "cell_type": "code",
   "execution_count": 13,
   "id": "1d2a5846",
   "metadata": {
    "execution": {
     "iopub.execute_input": "2023-08-10T14:58:52.514391Z",
     "iopub.status.busy": "2023-08-10T14:58:52.513125Z",
     "iopub.status.idle": "2023-08-10T14:58:52.525717Z",
     "shell.execute_reply": "2023-08-10T14:58:52.524428Z"
    },
    "papermill": {
     "duration": 0.040009,
     "end_time": "2023-08-10T14:58:52.528519",
     "exception": false,
     "start_time": "2023-08-10T14:58:52.488510",
     "status": "completed"
    },
    "tags": []
   },
   "outputs": [
    {
     "data": {
      "text/plain": [
       "PassengerId      0\n",
       "Survived         0\n",
       "Pclass           0\n",
       "Name             0\n",
       "Sex              0\n",
       "Age            177\n",
       "SibSp            0\n",
       "Parch            0\n",
       "Ticket           0\n",
       "Fare             0\n",
       "Cabin          687\n",
       "Embarked         2\n",
       "dtype: int64"
      ]
     },
     "execution_count": 13,
     "metadata": {},
     "output_type": "execute_result"
    }
   ],
   "source": [
    "# Checking for null values\n",
    "train_data.isnull().sum()"
   ]
  },
  {
   "cell_type": "markdown",
   "id": "4dcec19f",
   "metadata": {
    "papermill": {
     "duration": 0.02263,
     "end_time": "2023-08-10T14:58:52.640189",
     "exception": false,
     "start_time": "2023-08-10T14:58:52.617559",
     "status": "completed"
    },
    "tags": []
   },
   "source": [
    "**As we can see that the Cabin column has a lot of missing values ans is of no use to us so we will drop it along with PassengerID.**"
   ]
  },
  {
   "cell_type": "code",
   "execution_count": 14,
   "id": "6ce50b77",
   "metadata": {
    "execution": {
     "iopub.execute_input": "2023-08-10T14:58:52.688846Z",
     "iopub.status.busy": "2023-08-10T14:58:52.687482Z",
     "iopub.status.idle": "2023-08-10T14:58:52.697075Z",
     "shell.execute_reply": "2023-08-10T14:58:52.695913Z"
    },
    "papermill": {
     "duration": 0.036918,
     "end_time": "2023-08-10T14:58:52.700132",
     "exception": false,
     "start_time": "2023-08-10T14:58:52.663214",
     "status": "completed"
    },
    "tags": []
   },
   "outputs": [],
   "source": [
    "train_data.drop(columns=['Cabin','PassengerId',],inplace=True)"
   ]
  },
  {
   "cell_type": "code",
   "execution_count": 15,
   "id": "c7c11eca",
   "metadata": {
    "execution": {
     "iopub.execute_input": "2023-08-10T14:58:52.749521Z",
     "iopub.status.busy": "2023-08-10T14:58:52.748644Z",
     "iopub.status.idle": "2023-08-10T14:58:52.760278Z",
     "shell.execute_reply": "2023-08-10T14:58:52.759236Z"
    },
    "papermill": {
     "duration": 0.039381,
     "end_time": "2023-08-10T14:58:52.762996",
     "exception": false,
     "start_time": "2023-08-10T14:58:52.723615",
     "status": "completed"
    },
    "tags": []
   },
   "outputs": [
    {
     "data": {
      "text/plain": [
       "Survived    1.000000\n",
       "Fare        0.257307\n",
       "Parch       0.081629\n",
       "SibSp      -0.035322\n",
       "Age        -0.077221\n",
       "Pclass     -0.338481\n",
       "Name: Survived, dtype: float64"
      ]
     },
     "execution_count": 15,
     "metadata": {},
     "output_type": "execute_result"
    }
   ],
   "source": [
    "# Checking the corelation in the data\n",
    "train_data.corr()['Survived'].sort_values(ascending=False)"
   ]
  },
  {
   "cell_type": "markdown",
   "id": "6f2d788a",
   "metadata": {
    "papermill": {
     "duration": 0.023065,
     "end_time": "2023-08-10T14:58:52.809954",
     "exception": false,
     "start_time": "2023-08-10T14:58:52.786889",
     "status": "completed"
    },
    "tags": []
   },
   "source": [
    "**Fare coulumn is weakly positively coreleated while the Pclass column is weakly neagative corealted.**"
   ]
  },
  {
   "cell_type": "code",
   "execution_count": 16,
   "id": "6ea2ad23",
   "metadata": {
    "execution": {
     "iopub.execute_input": "2023-08-10T14:58:52.860227Z",
     "iopub.status.busy": "2023-08-10T14:58:52.859391Z",
     "iopub.status.idle": "2023-08-10T14:58:53.225020Z",
     "shell.execute_reply": "2023-08-10T14:58:53.222522Z"
    },
    "papermill": {
     "duration": 0.393944,
     "end_time": "2023-08-10T14:58:53.228713",
     "exception": false,
     "start_time": "2023-08-10T14:58:52.834769",
     "status": "completed"
    },
    "tags": []
   },
   "outputs": [
    {
     "data": {
      "image/png": "[encoded data removed]",
      "text/plain": [
       "<Figure size 640x480 with 2 Axes>"
      ]
     },
     "metadata": {},
     "output_type": "display_data"
    }
   ],
   "source": [
    "g = sns.heatmap(train_data[[\"Survived\",\"SibSp\",\"Parch\",\"Age\",\"Fare\"]].corr(),annot=True, fmt = \".2f\", cmap = \"coolwarm\")"
   ]
  },
  {
   "cell_type": "markdown",
   "id": "247f62e0",
   "metadata": {
    "papermill": {
     "duration": 0.024334,
     "end_time": "2023-08-10T14:58:53.277775",
     "exception": false,
     "start_time": "2023-08-10T14:58:53.253441",
     "status": "completed"
    },
    "tags": []
   },
   "source": [
    "## EDA (Exploratory Data Analysis)"
   ]
  },
  {
   "cell_type": "code",
   "execution_count": 17,
   "id": "599699e9",
   "metadata": {
    "execution": {
     "iopub.execute_input": "2023-08-10T14:58:53.328513Z",
     "iopub.status.busy": "2023-08-10T14:58:53.328040Z",
     "iopub.status.idle": "2023-08-10T14:58:53.340706Z",
     "shell.execute_reply": "2023-08-10T14:58:53.339237Z"
    },
    "papermill": {
     "duration": 0.041668,
     "end_time": "2023-08-10T14:58:53.343907",
     "exception": false,
     "start_time": "2023-08-10T14:58:53.302239",
     "status": "completed"
    },
    "tags": []
   },
   "outputs": [
    {
     "data": {
      "text/plain": [
       "Sex     Survived\n",
       "female  0            81\n",
       "        1           233\n",
       "male    0           468\n",
       "        1           109\n",
       "Name: Survived, dtype: int64"
      ]
     },
     "execution_count": 17,
     "metadata": {},
     "output_type": "execute_result"
    }
   ],
   "source": [
    "# Starting with the Sex column\n",
    "train_data.groupby(['Sex','Survived'])['Survived'].count()"
   ]
  },
  {
   "cell_type": "code",
   "execution_count": 18,
   "id": "acf6abe9",
   "metadata": {
    "execution": {
     "iopub.execute_input": "2023-08-10T14:58:53.396543Z",
     "iopub.status.busy": "2023-08-10T14:58:53.395739Z",
     "iopub.status.idle": "2023-08-10T14:58:53.722570Z",
     "shell.execute_reply": "2023-08-10T14:58:53.721083Z"
    },
    "papermill": {
     "duration": 0.357398,
     "end_time": "2023-08-10T14:58:53.726006",
     "exception": false,
     "start_time": "2023-08-10T14:58:53.368608",
     "status": "completed"
    },
    "tags": []
   },
   "outputs": [
    {
     "data": {
      "image/png": "[encoded data removed]",
      "text/plain": [
       "<Figure size 1800x800 with 2 Axes>"
      ]
     },
     "metadata": {},
     "output_type": "display_data"
    }
   ],
   "source": [
    "f,ax=plt.subplots(1,2,figsize=(18,8))\n",
    "sns.countplot(x = 'Sex',data = train_data,ax=ax[0])\n",
    "ax[0].set_title('Survived vs Sex')\n",
    "sns.countplot(x = 'Sex',data = train_data,hue='Survived',ax=ax[1])\n",
    "ax[1].set_title('Sex:Survived vs Dead')\n",
    "plt.show()"
   ]
  },
  {
   "cell_type": "markdown",
   "id": "7b3159bd",
   "metadata": {
    "papermill": {
     "duration": 0.025512,
     "end_time": "2023-08-10T14:58:53.778598",
     "exception": false,
     "start_time": "2023-08-10T14:58:53.753086",
     "status": "completed"
    },
    "tags": []
   },
   "source": [
    "**The number of male was more than the number of female on the ship.<br>\n",
    "The number of female survived are much more as compared to male.**"
   ]
  },
  {
   "cell_type": "code",
   "execution_count": 19,
   "id": "cb3747c5",
   "metadata": {
    "execution": {
     "iopub.execute_input": "2023-08-10T14:58:53.833966Z",
     "iopub.status.busy": "2023-08-10T14:58:53.833195Z",
     "iopub.status.idle": "2023-08-10T14:58:53.845748Z",
     "shell.execute_reply": "2023-08-10T14:58:53.843919Z"
    },
    "papermill": {
     "duration": 0.042259,
     "end_time": "2023-08-10T14:58:53.848876",
     "exception": false,
     "start_time": "2023-08-10T14:58:53.806617",
     "status": "completed"
    },
    "tags": []
   },
   "outputs": [
    {
     "data": {
      "text/plain": [
       "Pclass  Survived\n",
       "1       0            80\n",
       "        1           136\n",
       "2       0            97\n",
       "        1            87\n",
       "3       0           372\n",
       "        1           119\n",
       "Name: Survived, dtype: int64"
      ]
     },
     "execution_count": 19,
     "metadata": {},
     "output_type": "execute_result"
    }
   ],
   "source": [
    "# Checking the Pclass column\n",
    "train_data.groupby(['Pclass','Survived'])['Survived'].count()"
   ]
  },
  {
   "cell_type": "code",
   "execution_count": 20,
   "id": "962f68ee",
   "metadata": {
    "execution": {
     "iopub.execute_input": "2023-08-10T14:58:53.900605Z",
     "iopub.status.busy": "2023-08-10T14:58:53.900161Z",
     "iopub.status.idle": "2023-08-10T14:58:54.260482Z",
     "shell.execute_reply": "2023-08-10T14:58:54.258984Z"
    },
    "papermill": {
     "duration": 0.390125,
     "end_time": "2023-08-10T14:58:54.263632",
     "exception": false,
     "start_time": "2023-08-10T14:58:53.873507",
     "status": "completed"
    },
    "tags": []
   },
   "outputs": [
    {
     "data": {
      "image/png": "[encoded data removed]",
      "text/plain": [
       "<Figure size 1800x800 with 2 Axes>"
      ]
     },
     "metadata": {},
     "output_type": "display_data"
    }
   ],
   "source": [
    "f,ax=plt.subplots(1,2,figsize=(18,8))\n",
    "sns.countplot(x='Pclass',data=train_data,ax=ax[0])\n",
    "ax[0].set_title('Number Of Passengers By Pclass')\n",
    "ax[0].set_ylabel('Count')\n",
    "sns.countplot(x='Pclass',hue='Survived',data=train_data,ax=ax[1])\n",
    "ax[1].set_title('Pclass:Survived vs Dead')\n",
    "plt.show()"
   ]
  },
  {
   "cell_type": "markdown",
   "id": "09432889",
   "metadata": {
    "papermill": {
     "duration": 0.024875,
     "end_time": "2023-08-10T14:58:54.313714",
     "exception": false,
     "start_time": "2023-08-10T14:58:54.288839",
     "status": "completed"
    },
    "tags": []
   },
   "source": [
    "**Most of the people on the ship belongs to the 3rd class.<br>\n",
    "Most people that suvived belongs to the 1st class.**"
   ]
  },
  {
   "cell_type": "code",
   "execution_count": 21,
   "id": "5891bdb4",
   "metadata": {
    "execution": {
     "iopub.execute_input": "2023-08-10T14:58:54.368106Z",
     "iopub.status.busy": "2023-08-10T14:58:54.367360Z",
     "iopub.status.idle": "2023-08-10T14:58:54.379657Z",
     "shell.execute_reply": "2023-08-10T14:58:54.378347Z"
    },
    "papermill": {
     "duration": 0.043521,
     "end_time": "2023-08-10T14:58:54.382377",
     "exception": false,
     "start_time": "2023-08-10T14:58:54.338856",
     "status": "completed"
    },
    "tags": []
   },
   "outputs": [
    {
     "data": {
      "text/plain": [
       "Embarked  Survived\n",
       "C         0            75\n",
       "          1            93\n",
       "Q         0            47\n",
       "          1            30\n",
       "S         0           427\n",
       "          1           217\n",
       "Name: Survived, dtype: int64"
      ]
     },
     "execution_count": 21,
     "metadata": {},
     "output_type": "execute_result"
    }
   ],
   "source": [
    "# Checking the Embarked column\n",
    "train_data.groupby(['Embarked','Survived'])['Survived'].count()"
   ]
  },
  {
   "cell_type": "code",
   "execution_count": 22,
   "id": "7f57c260",
   "metadata": {
    "execution": {
     "iopub.execute_input": "2023-08-10T14:58:54.438200Z",
     "iopub.status.busy": "2023-08-10T14:58:54.437373Z",
     "iopub.status.idle": "2023-08-10T14:58:54.805328Z",
     "shell.execute_reply": "2023-08-10T14:58:54.803018Z"
    },
    "papermill": {
     "duration": 0.400054,
     "end_time": "2023-08-10T14:58:54.809111",
     "exception": false,
     "start_time": "2023-08-10T14:58:54.409057",
     "status": "completed"
    },
    "tags": []
   },
   "outputs": [
    {
     "data": {
      "image/png": "[encoded data removed]",
      "text/plain": [
       "<Figure size 1800x800 with 2 Axes>"
      ]
     },
     "metadata": {},
     "output_type": "display_data"
    }
   ],
   "source": [
    "f,ax=plt.subplots(1,2,figsize=(18,8))\n",
    "sns.countplot(x='Embarked',data=train_data,ax=ax[0])\n",
    "ax[0].set_title('Number Of Passengers By Embarked')\n",
    "ax[0].set_ylabel('Count')\n",
    "sns.countplot(x='Embarked',hue='Survived',data=train_data,ax=ax[1])\n",
    "ax[1].set_title('Embarked:Survived vs Dead')\n",
    "plt.show()"
   ]
  },
  {
   "cell_type": "markdown",
   "id": "bb994a44",
   "metadata": {
    "papermill": {
     "duration": 0.028764,
     "end_time": "2023-08-10T14:58:54.866087",
     "exception": false,
     "start_time": "2023-08-10T14:58:54.837323",
     "status": "completed"
    },
    "tags": []
   },
   "source": [
    "**Number of people embarking in Southampton (S) are the highest followed by Cherbourg (C).<br>\n",
    "Most of the people that survied also belong to Southampton as it has the most number of people hence most of the survived people belong to it.**"
   ]
  },
  {
   "cell_type": "code",
   "execution_count": 23,
   "id": "66c7c7f7",
   "metadata": {
    "execution": {
     "iopub.execute_input": "2023-08-10T14:58:54.920872Z",
     "iopub.status.busy": "2023-08-10T14:58:54.920385Z",
     "iopub.status.idle": "2023-08-10T14:58:54.934984Z",
     "shell.execute_reply": "2023-08-10T14:58:54.933453Z"
    },
    "papermill": {
     "duration": 0.045345,
     "end_time": "2023-08-10T14:58:54.937983",
     "exception": false,
     "start_time": "2023-08-10T14:58:54.892638",
     "status": "completed"
    },
    "tags": []
   },
   "outputs": [
    {
     "data": {
      "text/plain": [
       "SibSp  Survived\n",
       "0      0           398\n",
       "       1           210\n",
       "1      0            97\n",
       "       1           112\n",
       "2      0            15\n",
       "       1            13\n",
       "3      0            12\n",
       "       1             4\n",
       "4      0            15\n",
       "       1             3\n",
       "5      0             5\n",
       "8      0             7\n",
       "Name: Survived, dtype: int64"
      ]
     },
     "execution_count": 23,
     "metadata": {},
     "output_type": "execute_result"
    }
   ],
   "source": [
    "# Checking the SibSp column\n",
    "train_data.groupby(['SibSp','Survived'])['Survived'].count()"
   ]
  },
  {
   "cell_type": "code",
   "execution_count": 24,
   "id": "713885ee",
   "metadata": {
    "execution": {
     "iopub.execute_input": "2023-08-10T14:58:54.993870Z",
     "iopub.status.busy": "2023-08-10T14:58:54.993410Z",
     "iopub.status.idle": "2023-08-10T14:58:55.481138Z",
     "shell.execute_reply": "2023-08-10T14:58:55.479726Z"
    },
    "papermill": {
     "duration": 0.518696,
     "end_time": "2023-08-10T14:58:55.484168",
     "exception": false,
     "start_time": "2023-08-10T14:58:54.965472",
     "status": "completed"
    },
    "tags": []
   },
   "outputs": [
    {
     "data": {
      "image/png": "[encoded data removed]",
      "text/plain": [
       "<Figure size 1800x800 with 2 Axes>"
      ]
     },
     "metadata": {},
     "output_type": "display_data"
    }
   ],
   "source": [
    "f,ax=plt.subplots(1,2,figsize=(18,8))\n",
    "sns.countplot(x='SibSp',data=train_data,ax=ax[0])\n",
    "ax[0].set_title('Number Of Passengers By SibSp')\n",
    "ax[0].set_ylabel('Count')\n",
    "sns.countplot(x='SibSp',hue='Survived',data=train_data,ax=ax[1])\n",
    "ax[1].set_title('SibSp:Survived vs Dead')\n",
    "plt.show()"
   ]
  },
  {
   "cell_type": "code",
   "execution_count": 25,
   "id": "609d7bc3",
   "metadata": {
    "execution": {
     "iopub.execute_input": "2023-08-10T14:58:55.542366Z",
     "iopub.status.busy": "2023-08-10T14:58:55.541936Z",
     "iopub.status.idle": "2023-08-10T14:58:55.554168Z",
     "shell.execute_reply": "2023-08-10T14:58:55.553197Z"
    },
    "papermill": {
     "duration": 0.043696,
     "end_time": "2023-08-10T14:58:55.556713",
     "exception": false,
     "start_time": "2023-08-10T14:58:55.513017",
     "status": "completed"
    },
    "tags": []
   },
   "outputs": [
    {
     "data": {
      "text/plain": [
       "Parch  Survived\n",
       "0      0           445\n",
       "       1           233\n",
       "1      0            53\n",
       "       1            65\n",
       "2      0            40\n",
       "       1            40\n",
       "3      0             2\n",
       "       1             3\n",
       "4      0             4\n",
       "5      0             4\n",
       "       1             1\n",
       "6      0             1\n",
       "Name: Survived, dtype: int64"
      ]
     },
     "execution_count": 25,
     "metadata": {},
     "output_type": "execute_result"
    }
   ],
   "source": [
    "# Checking the Parch column\n",
    "train_data.groupby(['Parch','Survived'])['Survived'].count()"
   ]
  },
  {
   "cell_type": "code",
   "execution_count": 26,
   "id": "3bc45321",
   "metadata": {
    "execution": {
     "iopub.execute_input": "2023-08-10T14:58:55.614177Z",
     "iopub.status.busy": "2023-08-10T14:58:55.612794Z",
     "iopub.status.idle": "2023-08-10T14:58:56.069372Z",
     "shell.execute_reply": "2023-08-10T14:58:56.068019Z"
    },
    "papermill": {
     "duration": 0.488217,
     "end_time": "2023-08-10T14:58:56.072445",
     "exception": false,
     "start_time": "2023-08-10T14:58:55.584228",
     "status": "completed"
    },
    "tags": []
   },
   "outputs": [
    {
     "data": {
      "image/png": "[encoded data removed]",
      "text/plain": [
       "<Figure size 1800x800 with 2 Axes>"
      ]
     },
     "metadata": {},
     "output_type": "display_data"
    }
   ],
   "source": [
    "f,ax=plt.subplots(1,2,figsize=(18,8))\n",
    "sns.countplot(x='Parch',data=train_data,ax=ax[0])\n",
    "ax[0].set_title('Number Of Passengers By Parch')\n",
    "ax[0].set_ylabel('Count')\n",
    "sns.countplot(x='Parch',hue='Survived',data=train_data,ax=ax[1])\n",
    "ax[1].set_title('Parch:Survived vs Dead')\n",
    "plt.show()"
   ]
  },
  {
   "cell_type": "code",
   "execution_count": 27,
   "id": "0b46552b",
   "metadata": {
    "execution": {
     "iopub.execute_input": "2023-08-10T14:58:56.129904Z",
     "iopub.status.busy": "2023-08-10T14:58:56.129348Z",
     "iopub.status.idle": "2023-08-10T14:58:56.531337Z",
     "shell.execute_reply": "2023-08-10T14:58:56.529798Z"
    },
    "papermill": {
     "duration": 0.433903,
     "end_time": "2023-08-10T14:58:56.534276",
     "exception": false,
     "start_time": "2023-08-10T14:58:56.100373",
     "status": "completed"
    },
    "tags": []
   },
   "outputs": [
    {
     "data": {
      "text/plain": [
       "<Axes: xlabel='Age', ylabel='Density'>"
      ]
     },
     "execution_count": 27,
     "metadata": {},
     "output_type": "execute_result"
    },
    {
     "data": {
      "image/png": "[encoded data removed]",
      "text/plain": [
       "<Figure size 1000x800 with 1 Axes>"
      ]
     },
     "metadata": {},
     "output_type": "display_data"
    }
   ],
   "source": [
    "# Checking the age column\n",
    "plt.figure(figsize = (10,8))\n",
    "sns.distplot(train_data['Age'])"
   ]
  },
  {
   "cell_type": "code",
   "execution_count": 28,
   "id": "1dca4205",
   "metadata": {
    "execution": {
     "iopub.execute_input": "2023-08-10T14:58:56.598469Z",
     "iopub.status.busy": "2023-08-10T14:58:56.597593Z",
     "iopub.status.idle": "2023-08-10T14:58:57.047290Z",
     "shell.execute_reply": "2023-08-10T14:58:57.045637Z"
    },
    "papermill": {
     "duration": 0.486353,
     "end_time": "2023-08-10T14:58:57.051033",
     "exception": false,
     "start_time": "2023-08-10T14:58:56.564680",
     "status": "completed"
    },
    "tags": []
   },
   "outputs": [
    {
     "data": {
      "text/plain": [
       "<Axes: >"
      ]
     },
     "execution_count": 28,
     "metadata": {},
     "output_type": "execute_result"
    },
    {
     "data": {
      "image/png": "[encoded data removed]",
      "text/plain": [
       "<Figure size 640x480 with 1 Axes>"
      ]
     },
     "metadata": {},
     "output_type": "display_data"
    }
   ],
   "source": [
    "sns.boxplot(train_data['Age'])"
   ]
  },
  {
   "cell_type": "code",
   "execution_count": 29,
   "id": "2ba93f89",
   "metadata": {
    "execution": {
     "iopub.execute_input": "2023-08-10T14:58:57.111795Z",
     "iopub.status.busy": "2023-08-10T14:58:57.110961Z",
     "iopub.status.idle": "2023-08-10T14:58:57.121434Z",
     "shell.execute_reply": "2023-08-10T14:58:57.120073Z"
    },
    "papermill": {
     "duration": 0.044193,
     "end_time": "2023-08-10T14:58:57.124561",
     "exception": false,
     "start_time": "2023-08-10T14:58:57.080368",
     "status": "completed"
    },
    "tags": []
   },
   "outputs": [
    {
     "data": {
      "text/plain": [
       "0    4\n",
       "1    1\n",
       "Name: Survived, dtype: int64"
      ]
     },
     "execution_count": 29,
     "metadata": {},
     "output_type": "execute_result"
    }
   ],
   "source": [
    "train_data[train_data['Age']>70]['Survived'].value_counts()"
   ]
  },
  {
   "cell_type": "code",
   "execution_count": 30,
   "id": "0ba89412",
   "metadata": {
    "execution": {
     "iopub.execute_input": "2023-08-10T14:58:57.185956Z",
     "iopub.status.busy": "2023-08-10T14:58:57.184615Z",
     "iopub.status.idle": "2023-08-10T14:58:57.650705Z",
     "shell.execute_reply": "2023-08-10T14:58:57.649614Z"
    },
    "papermill": {
     "duration": 0.499618,
     "end_time": "2023-08-10T14:58:57.653640",
     "exception": false,
     "start_time": "2023-08-10T14:58:57.154022",
     "status": "completed"
    },
    "tags": []
   },
   "outputs": [
    {
     "data": {
      "text/plain": [
       "<Axes: xlabel='Fare', ylabel='Density'>"
      ]
     },
     "execution_count": 30,
     "metadata": {},
     "output_type": "execute_result"
    },
    {
     "data": {
      "image/png": "[encoded data removed]",
      "text/plain": [
       "<Figure size 1000x800 with 1 Axes>"
      ]
     },
     "metadata": {},
     "output_type": "display_data"
    }
   ],
   "source": [
    "# Checking the fare cloumn\n",
    "plt.figure(figsize = (10,8))\n",
    "sns.distplot(train_data['Fare'])"
   ]
  },
  {
   "cell_type": "code",
   "execution_count": 31,
   "id": "cb6803aa",
   "metadata": {
    "execution": {
     "iopub.execute_input": "2023-08-10T14:58:57.720086Z",
     "iopub.status.busy": "2023-08-10T14:58:57.719586Z",
     "iopub.status.idle": "2023-08-10T14:58:57.940441Z",
     "shell.execute_reply": "2023-08-10T14:58:57.939451Z"
    },
    "papermill": {
     "duration": 0.257038,
     "end_time": "2023-08-10T14:58:57.943282",
     "exception": false,
     "start_time": "2023-08-10T14:58:57.686244",
     "status": "completed"
    },
    "tags": []
   },
   "outputs": [
    {
     "data": {
      "text/plain": [
       "<Axes: >"
      ]
     },
     "execution_count": 31,
     "metadata": {},
     "output_type": "execute_result"
    },
    {
     "data": {
      "image/png": "[encoded data removed]",
      "text/plain": [
       "<Figure size 640x480 with 1 Axes>"
      ]
     },
     "metadata": {},
     "output_type": "display_data"
    }
   ],
   "source": [
    "sns.boxplot(train_data['Fare'])"
   ]
  },
  {
   "cell_type": "code",
   "execution_count": 32,
   "id": "a51d1ffb",
   "metadata": {
    "execution": {
     "iopub.execute_input": "2023-08-10T14:58:58.007962Z",
     "iopub.status.busy": "2023-08-10T14:58:58.007508Z",
     "iopub.status.idle": "2023-08-10T14:58:58.020437Z",
     "shell.execute_reply": "2023-08-10T14:58:58.018935Z"
    },
    "papermill": {
     "duration": 0.048962,
     "end_time": "2023-08-10T14:58:58.023376",
     "exception": false,
     "start_time": "2023-08-10T14:58:57.974414",
     "status": "completed"
    },
    "tags": []
   },
   "outputs": [
    {
     "data": {
      "text/plain": [
       "1    3\n",
       "Name: Survived, dtype: int64"
      ]
     },
     "execution_count": 32,
     "metadata": {},
     "output_type": "execute_result"
    }
   ],
   "source": [
    "train_data[train_data['Fare']>300]['Survived'].value_counts()"
   ]
  },
  {
   "cell_type": "code",
   "execution_count": 33,
   "id": "16a6bf8d",
   "metadata": {
    "execution": {
     "iopub.execute_input": "2023-08-10T14:58:58.090779Z",
     "iopub.status.busy": "2023-08-10T14:58:58.090192Z",
     "iopub.status.idle": "2023-08-10T14:58:58.101865Z",
     "shell.execute_reply": "2023-08-10T14:58:58.100524Z"
    },
    "papermill": {
     "duration": 0.048076,
     "end_time": "2023-08-10T14:58:58.104630",
     "exception": false,
     "start_time": "2023-08-10T14:58:58.056554",
     "status": "completed"
    },
    "tags": []
   },
   "outputs": [
    {
     "data": {
      "text/plain": [
       "0                                Braund, Mr. Owen Harris\n",
       "1      Cumings, Mrs. John Bradley (Florence Briggs Th...\n",
       "2                                 Heikkinen, Miss. Laina\n",
       "3           Futrelle, Mrs. Jacques Heath (Lily May Peel)\n",
       "4                               Allen, Mr. William Henry\n",
       "                             ...                        \n",
       "886                                Montvila, Rev. Juozas\n",
       "887                         Graham, Miss. Margaret Edith\n",
       "888             Johnston, Miss. Catherine Helen \"Carrie\"\n",
       "889                                Behr, Mr. Karl Howell\n",
       "890                                  Dooley, Mr. Patrick\n",
       "Name: Name, Length: 891, dtype: object"
      ]
     },
     "execution_count": 33,
     "metadata": {},
     "output_type": "execute_result"
    }
   ],
   "source": [
    "# Checking the Name column\n",
    "train_data['Name']"
   ]
  },
  {
   "cell_type": "code",
   "execution_count": 35,
   "id": "7e39f90b",
   "metadata": {
    "execution": {
     "iopub.execute_input": "2023-08-10T14:58:58.169793Z",
     "iopub.status.busy": "2023-08-10T14:58:58.169296Z",
     "iopub.status.idle": "2023-08-10T14:58:58.181953Z",
     "shell.execute_reply": "2023-08-10T14:58:58.180503Z"
    },
    "papermill": {
     "duration": 0.048993,
     "end_time": "2023-08-10T14:58:58.185073",
     "exception": false,
     "start_time": "2023-08-10T14:58:58.136080",
     "status": "completed"
    },
    "tags": []
   },
   "outputs": [],
   "source": [
    "combine = [train_data]\n",
    "\n",
    "#extract a title for each Name in the train and test datasets\n",
    "for dataset in combine:\n",
    "    dataset['Title'] = dataset.Name.str.extract(' ([A-Za-z]+)\\.', expand=False)\n"
   ]
  },
  {
   "cell_type": "code",
   "execution_count": 36,
   "id": "b302fa1a",
   "metadata": {
    "execution": {
     "iopub.execute_input": "2023-08-10T14:58:58.251351Z",
     "iopub.status.busy": "2023-08-10T14:58:58.250798Z",
     "iopub.status.idle": "2023-08-10T14:58:58.259617Z",
     "shell.execute_reply": "2023-08-10T14:58:58.258309Z"
    },
    "papermill": {
     "duration": 0.045882,
     "end_time": "2023-08-10T14:58:58.262406",
     "exception": false,
     "start_time": "2023-08-10T14:58:58.216524",
     "status": "completed"
    },
    "tags": []
   },
   "outputs": [
    {
     "data": {
      "text/plain": [
       "array(['Mr', 'Mrs', 'Miss', 'Master', 'Don', 'Rev', 'Dr', 'Mme', 'Ms',\n",
       "       'Major', 'Lady', 'Sir', 'Mlle', 'Col', 'Capt', 'Countess',\n",
       "       'Jonkheer'], dtype=object)"
      ]
     },
     "execution_count": 36,
     "metadata": {},
     "output_type": "execute_result"
    }
   ],
   "source": [
    "train_data['Title'].unique()"
   ]
  },
  {
   "cell_type": "code",
   "execution_count": 37,
   "id": "2aa8c55f",
   "metadata": {
    "execution": {
     "iopub.execute_input": "2023-08-10T14:58:58.329300Z",
     "iopub.status.busy": "2023-08-10T14:58:58.328414Z",
     "iopub.status.idle": "2023-08-10T14:58:58.361337Z",
     "shell.execute_reply": "2023-08-10T14:58:58.359987Z"
    },
    "papermill": {
     "duration": 0.069065,
     "end_time": "2023-08-10T14:58:58.364221",
     "exception": false,
     "start_time": "2023-08-10T14:58:58.295156",
     "status": "completed"
    },
    "tags": []
   },
   "outputs": [
    {
     "data": {
      "text/html": [
       "<div>\n",
       "<style scoped>\n",
       "    .dataframe tbody tr th:only-of-type {\n",
       "        vertical-align: middle;\n",
       "    }\n",
       "\n",
       "    .dataframe tbody tr th {\n",
       "        vertical-align: top;\n",
       "    }\n",
       "\n",
       "    .dataframe thead th {\n",
       "        text-align: right;\n",
       "    }\n",
       "</style>\n",
       "<table border=\"1\" class=\"dataframe\">\n",
       "  <thead>\n",
       "    <tr style=\"text-align: right;\">\n",
       "      <th></th>\n",
       "      <th>Title</th>\n",
       "      <th>Survived</th>\n",
       "    </tr>\n",
       "  </thead>\n",
       "  <tbody>\n",
       "    <tr>\n",
       "      <th>0</th>\n",
       "      <td>Master</td>\n",
       "      <td>0.575000</td>\n",
       "    </tr>\n",
       "    <tr>\n",
       "      <th>1</th>\n",
       "      <td>Miss</td>\n",
       "      <td>0.702703</td>\n",
       "    </tr>\n",
       "    <tr>\n",
       "      <th>2</th>\n",
       "      <td>Mr</td>\n",
       "      <td>0.156673</td>\n",
       "    </tr>\n",
       "    <tr>\n",
       "      <th>3</th>\n",
       "      <td>Mrs</td>\n",
       "      <td>0.793651</td>\n",
       "    </tr>\n",
       "    <tr>\n",
       "      <th>4</th>\n",
       "      <td>Rare</td>\n",
       "      <td>0.285714</td>\n",
       "    </tr>\n",
       "    <tr>\n",
       "      <th>5</th>\n",
       "      <td>Royal</td>\n",
       "      <td>1.000000</td>\n",
       "    </tr>\n",
       "  </tbody>\n",
       "</table>\n",
       "</div>"
      ],
      "text/plain": [
       "    Title  Survived\n",
       "0  Master  0.575000\n",
       "1    Miss  0.702703\n",
       "2      Mr  0.156673\n",
       "3     Mrs  0.793651\n",
       "4    Rare  0.285714\n",
       "5   Royal  1.000000"
      ]
     },
     "execution_count": 37,
     "metadata": {},
     "output_type": "execute_result"
    }
   ],
   "source": [
    "for dataset in combine:\n",
    "    dataset['Title'] = dataset['Title'].replace(['Lady', 'Capt', 'Col',\n",
    "    'Don', 'Dr', 'Major', 'Rev', 'Jonkheer', 'Dona'], 'Rare')\n",
    "    \n",
    "    dataset['Title'] = dataset['Title'].replace(['Countess', 'Lady', 'Sir'], 'Royal')\n",
    "    dataset['Title'] = dataset['Title'].replace('Mlle', 'Miss')\n",
    "    dataset['Title'] = dataset['Title'].replace('Ms', 'Miss')\n",
    "    dataset['Title'] = dataset['Title'].replace('Mme', 'Mrs')\n",
    "\n",
    "train_data[['Title', 'Survived']].groupby(['Title'], as_index=False).mean()"
   ]
  },
  {
   "cell_type": "code",
   "execution_count": 38,
   "id": "828aaaae",
   "metadata": {
    "execution": {
     "iopub.execute_input": "2023-08-10T14:58:58.433039Z",
     "iopub.status.busy": "2023-08-10T14:58:58.432550Z",
     "iopub.status.idle": "2023-08-10T14:58:58.462089Z",
     "shell.execute_reply": "2023-08-10T14:58:58.460482Z"
    },
    "papermill": {
     "duration": 0.068818,
     "end_time": "2023-08-10T14:58:58.465215",
     "exception": false,
     "start_time": "2023-08-10T14:58:58.396397",
     "status": "completed"
    },
    "tags": []
   },
   "outputs": [
    {
     "data": {
      "text/html": [
       "<div>\n",
       "<style scoped>\n",
       "    .dataframe tbody tr th:only-of-type {\n",
       "        vertical-align: middle;\n",
       "    }\n",
       "\n",
       "    .dataframe tbody tr th {\n",
       "        vertical-align: top;\n",
       "    }\n",
       "\n",
       "    .dataframe thead th {\n",
       "        text-align: right;\n",
       "    }\n",
       "</style>\n",
       "<table border=\"1\" class=\"dataframe\">\n",
       "  <thead>\n",
       "    <tr style=\"text-align: right;\">\n",
       "      <th></th>\n",
       "      <th>Survived</th>\n",
       "      <th>Pclass</th>\n",
       "      <th>Name</th>\n",
       "      <th>Sex</th>\n",
       "      <th>Age</th>\n",
       "      <th>SibSp</th>\n",
       "      <th>Parch</th>\n",
       "      <th>Ticket</th>\n",
       "      <th>Fare</th>\n",
       "      <th>Embarked</th>\n",
       "      <th>Title</th>\n",
       "    </tr>\n",
       "  </thead>\n",
       "  <tbody>\n",
       "    <tr>\n",
       "      <th>0</th>\n",
       "      <td>0</td>\n",
       "      <td>3</td>\n",
       "      <td>Braund, Mr. Owen Harris</td>\n",
       "      <td>male</td>\n",
       "      <td>22.0</td>\n",
       "      <td>1</td>\n",
       "      <td>0</td>\n",
       "      <td>A/5 21171</td>\n",
       "      <td>7.2500</td>\n",
       "      <td>S</td>\n",
       "      <td>1</td>\n",
       "    </tr>\n",
       "    <tr>\n",
       "      <th>1</th>\n",
       "      <td>1</td>\n",
       "      <td>1</td>\n",
       "      <td>Cumings, Mrs. John Bradley (Florence Briggs Th...</td>\n",
       "      <td>female</td>\n",
       "      <td>38.0</td>\n",
       "      <td>1</td>\n",
       "      <td>0</td>\n",
       "      <td>PC 17599</td>\n",
       "      <td>71.2833</td>\n",
       "      <td>C</td>\n",
       "      <td>3</td>\n",
       "    </tr>\n",
       "    <tr>\n",
       "      <th>2</th>\n",
       "      <td>1</td>\n",
       "      <td>3</td>\n",
       "      <td>Heikkinen, Miss. Laina</td>\n",
       "      <td>female</td>\n",
       "      <td>26.0</td>\n",
       "      <td>0</td>\n",
       "      <td>0</td>\n",
       "      <td>STON/O2. 3101282</td>\n",
       "      <td>7.9250</td>\n",
       "      <td>S</td>\n",
       "      <td>2</td>\n",
       "    </tr>\n",
       "    <tr>\n",
       "      <th>3</th>\n",
       "      <td>1</td>\n",
       "      <td>1</td>\n",
       "      <td>Futrelle, Mrs. Jacques Heath (Lily May Peel)</td>\n",
       "      <td>female</td>\n",
       "      <td>35.0</td>\n",
       "      <td>1</td>\n",
       "      <td>0</td>\n",
       "      <td>113803</td>\n",
       "      <td>53.1000</td>\n",
       "      <td>S</td>\n",
       "      <td>3</td>\n",
       "    </tr>\n",
       "    <tr>\n",
       "      <th>4</th>\n",
       "      <td>0</td>\n",
       "      <td>3</td>\n",
       "      <td>Allen, Mr. William Henry</td>\n",
       "      <td>male</td>\n",
       "      <td>35.0</td>\n",
       "      <td>0</td>\n",
       "      <td>0</td>\n",
       "      <td>373450</td>\n",
       "      <td>8.0500</td>\n",
       "      <td>S</td>\n",
       "      <td>1</td>\n",
       "    </tr>\n",
       "  </tbody>\n",
       "</table>\n",
       "</div>"
      ],
      "text/plain": [
       "   Survived  Pclass                                               Name  \\\n",
       "0         0       3                            Braund, Mr. Owen Harris   \n",
       "1         1       1  Cumings, Mrs. John Bradley (Florence Briggs Th...   \n",
       "2         1       3                             Heikkinen, Miss. Laina   \n",
       "3         1       1       Futrelle, Mrs. Jacques Heath (Lily May Peel)   \n",
       "4         0       3                           Allen, Mr. William Henry   \n",
       "\n",
       "      Sex   Age  SibSp  Parch            Ticket     Fare Embarked  Title  \n",
       "0    male  22.0      1      0         A/5 21171   7.2500        S      1  \n",
       "1  female  38.0      1      0          PC 17599  71.2833        C      3  \n",
       "2  female  26.0      0      0  STON/O2. 3101282   7.9250        S      2  \n",
       "3  female  35.0      1      0            113803  53.1000        S      3  \n",
       "4    male  35.0      0      0            373450   8.0500        S      1  "
      ]
     },
     "execution_count": 38,
     "metadata": {},
     "output_type": "execute_result"
    }
   ],
   "source": [
    "#map each of the title groups to a numerical value\n",
    "title_mapping = {\"Mr\": 1, \"Miss\": 2, \"Mrs\": 3, \"Master\": 4, \"Royal\": 5, \"Rare\": 6}\n",
    "for dataset in combine:\n",
    "    dataset['Title'] = dataset['Title'].map(title_mapping)\n",
    "    dataset['Title'] = dataset['Title'].fillna(0)\n",
    "\n",
    "train_data.head()"
   ]
  },
  {
   "cell_type": "code",
   "execution_count": 39,
   "id": "2573584e",
   "metadata": {
    "execution": {
     "iopub.execute_input": "2023-08-10T14:58:58.534215Z",
     "iopub.status.busy": "2023-08-10T14:58:58.532975Z",
     "iopub.status.idle": "2023-08-10T14:58:58.542216Z",
     "shell.execute_reply": "2023-08-10T14:58:58.540715Z"
    },
    "papermill": {
     "duration": 0.047257,
     "end_time": "2023-08-10T14:58:58.545562",
     "exception": false,
     "start_time": "2023-08-10T14:58:58.498305",
     "status": "completed"
    },
    "tags": []
   },
   "outputs": [],
   "source": [
    "train_data = train_data.drop(['Name'], axis = 1)"
   ]
  },
  {
   "cell_type": "markdown",
   "id": "54b7b2f1",
   "metadata": {
    "papermill": {
     "duration": 0.034003,
     "end_time": "2023-08-10T14:58:58.612576",
     "exception": false,
     "start_time": "2023-08-10T14:58:58.578573",
     "status": "completed"
    },
    "tags": []
   },
   "source": [
    "## Missing values"
   ]
  },
  {
   "cell_type": "code",
   "execution_count": 40,
   "id": "4f0cdc86",
   "metadata": {
    "execution": {
     "iopub.execute_input": "2023-08-10T14:58:58.679351Z",
     "iopub.status.busy": "2023-08-10T14:58:58.678914Z",
     "iopub.status.idle": "2023-08-10T14:58:58.689754Z",
     "shell.execute_reply": "2023-08-10T14:58:58.688392Z"
    },
    "papermill": {
     "duration": 0.047605,
     "end_time": "2023-08-10T14:58:58.692774",
     "exception": false,
     "start_time": "2023-08-10T14:58:58.645169",
     "status": "completed"
    },
    "tags": []
   },
   "outputs": [],
   "source": [
    "train_data['Age'] = train_data['Age'].fillna(train_data['Age'].median())"
   ]
  },
  {
   "cell_type": "code",
   "execution_count": 41,
   "id": "c61490be",
   "metadata": {
    "execution": {
     "iopub.execute_input": "2023-08-10T14:58:58.759424Z",
     "iopub.status.busy": "2023-08-10T14:58:58.758982Z",
     "iopub.status.idle": "2023-08-10T14:58:58.768557Z",
     "shell.execute_reply": "2023-08-10T14:58:58.767139Z"
    },
    "papermill": {
     "duration": 0.047019,
     "end_time": "2023-08-10T14:58:58.771958",
     "exception": false,
     "start_time": "2023-08-10T14:58:58.724939",
     "status": "completed"
    },
    "tags": []
   },
   "outputs": [],
   "source": [
    "train_data['Fare'] = train_data['Fare'].fillna(train_data['Fare'].median())"
   ]
  },
  {
   "cell_type": "code",
   "execution_count": 42,
   "id": "6d165579",
   "metadata": {
    "execution": {
     "iopub.execute_input": "2023-08-10T14:58:58.840770Z",
     "iopub.status.busy": "2023-08-10T14:58:58.840235Z",
     "iopub.status.idle": "2023-08-10T14:58:58.854133Z",
     "shell.execute_reply": "2023-08-10T14:58:58.851774Z"
    },
    "papermill": {
     "duration": 0.051974,
     "end_time": "2023-08-10T14:58:58.857519",
     "exception": false,
     "start_time": "2023-08-10T14:58:58.805545",
     "status": "completed"
    },
    "tags": []
   },
   "outputs": [
    {
     "name": "stdout",
     "output_type": "stream",
     "text": [
      "Number of people embarking in Southampton (S):\n",
      "644\n",
      "Number of people embarking in Cherbourg (C):\n",
      "168\n",
      "Number of people embarking in Queenstown (Q):\n",
      "77\n"
     ]
    }
   ],
   "source": [
    "#now we need to fill in the missing values in the Embarked feature\n",
    "print(\"Number of people embarking in Southampton (S):\")\n",
    "southampton = train_data[train_data[\"Embarked\"] == \"S\"].shape[0]\n",
    "print(southampton)\n",
    "\n",
    "print(\"Number of people embarking in Cherbourg (C):\")\n",
    "cherbourg = train_data[train_data[\"Embarked\"] == \"C\"].shape[0]\n",
    "print(cherbourg)\n",
    "\n",
    "print(\"Number of people embarking in Queenstown (Q):\")\n",
    "queenstown = train_data[train_data[\"Embarked\"] == \"Q\"].shape[0]\n",
    "print(queenstown)"
   ]
  },
  {
   "cell_type": "code",
   "execution_count": 43,
   "id": "e970bf9e",
   "metadata": {
    "execution": {
     "iopub.execute_input": "2023-08-10T14:58:58.926617Z",
     "iopub.status.busy": "2023-08-10T14:58:58.926089Z",
     "iopub.status.idle": "2023-08-10T14:58:58.934895Z",
     "shell.execute_reply": "2023-08-10T14:58:58.933392Z"
    },
    "papermill": {
     "duration": 0.046327,
     "end_time": "2023-08-10T14:58:58.938198",
     "exception": false,
     "start_time": "2023-08-10T14:58:58.891871",
     "status": "completed"
    },
    "tags": []
   },
   "outputs": [],
   "source": [
    "train_data = train_data.fillna({\"Embarked\": \"S\"})"
   ]
  },
  {
   "cell_type": "markdown",
   "id": "e73f58d5",
   "metadata": {
    "papermill": {
     "duration": 0.032514,
     "end_time": "2023-08-10T14:58:59.003291",
     "exception": false,
     "start_time": "2023-08-10T14:58:58.970777",
     "status": "completed"
    },
    "tags": []
   },
   "source": [
    "## Feature Engineering"
   ]
  },
  {
   "cell_type": "code",
   "execution_count": 44,
   "id": "fbe7f27f",
   "metadata": {
    "execution": {
     "iopub.execute_input": "2023-08-10T14:58:59.071581Z",
     "iopub.status.busy": "2023-08-10T14:58:59.071135Z",
     "iopub.status.idle": "2023-08-10T14:58:59.093949Z",
     "shell.execute_reply": "2023-08-10T14:58:59.092919Z"
    },
    "papermill": {
     "duration": 0.060151,
     "end_time": "2023-08-10T14:58:59.096536",
     "exception": false,
     "start_time": "2023-08-10T14:58:59.036385",
     "status": "completed"
    },
    "tags": []
   },
   "outputs": [
    {
     "data": {
      "text/html": [
       "<div>\n",
       "<style scoped>\n",
       "    .dataframe tbody tr th:only-of-type {\n",
       "        vertical-align: middle;\n",
       "    }\n",
       "\n",
       "    .dataframe tbody tr th {\n",
       "        vertical-align: top;\n",
       "    }\n",
       "\n",
       "    .dataframe thead th {\n",
       "        text-align: right;\n",
       "    }\n",
       "</style>\n",
       "<table border=\"1\" class=\"dataframe\">\n",
       "  <thead>\n",
       "    <tr style=\"text-align: right;\">\n",
       "      <th></th>\n",
       "      <th>Survived</th>\n",
       "      <th>Pclass</th>\n",
       "      <th>Sex</th>\n",
       "      <th>Age</th>\n",
       "      <th>SibSp</th>\n",
       "      <th>Parch</th>\n",
       "      <th>Ticket</th>\n",
       "      <th>Fare</th>\n",
       "      <th>Embarked</th>\n",
       "      <th>Title</th>\n",
       "      <th>FamilySize</th>\n",
       "    </tr>\n",
       "  </thead>\n",
       "  <tbody>\n",
       "    <tr>\n",
       "      <th>0</th>\n",
       "      <td>0</td>\n",
       "      <td>3</td>\n",
       "      <td>male</td>\n",
       "      <td>22.0</td>\n",
       "      <td>1</td>\n",
       "      <td>0</td>\n",
       "      <td>A/5 21171</td>\n",
       "      <td>7.2500</td>\n",
       "      <td>S</td>\n",
       "      <td>1</td>\n",
       "      <td>2</td>\n",
       "    </tr>\n",
       "    <tr>\n",
       "      <th>1</th>\n",
       "      <td>1</td>\n",
       "      <td>1</td>\n",
       "      <td>female</td>\n",
       "      <td>38.0</td>\n",
       "      <td>1</td>\n",
       "      <td>0</td>\n",
       "      <td>PC 17599</td>\n",
       "      <td>71.2833</td>\n",
       "      <td>C</td>\n",
       "      <td>3</td>\n",
       "      <td>2</td>\n",
       "    </tr>\n",
       "    <tr>\n",
       "      <th>2</th>\n",
       "      <td>1</td>\n",
       "      <td>3</td>\n",
       "      <td>female</td>\n",
       "      <td>26.0</td>\n",
       "      <td>0</td>\n",
       "      <td>0</td>\n",
       "      <td>STON/O2. 3101282</td>\n",
       "      <td>7.9250</td>\n",
       "      <td>S</td>\n",
       "      <td>2</td>\n",
       "      <td>1</td>\n",
       "    </tr>\n",
       "    <tr>\n",
       "      <th>3</th>\n",
       "      <td>1</td>\n",
       "      <td>1</td>\n",
       "      <td>female</td>\n",
       "      <td>35.0</td>\n",
       "      <td>1</td>\n",
       "      <td>0</td>\n",
       "      <td>113803</td>\n",
       "      <td>53.1000</td>\n",
       "      <td>S</td>\n",
       "      <td>3</td>\n",
       "      <td>2</td>\n",
       "    </tr>\n",
       "    <tr>\n",
       "      <th>4</th>\n",
       "      <td>0</td>\n",
       "      <td>3</td>\n",
       "      <td>male</td>\n",
       "      <td>35.0</td>\n",
       "      <td>0</td>\n",
       "      <td>0</td>\n",
       "      <td>373450</td>\n",
       "      <td>8.0500</td>\n",
       "      <td>S</td>\n",
       "      <td>1</td>\n",
       "      <td>1</td>\n",
       "    </tr>\n",
       "  </tbody>\n",
       "</table>\n",
       "</div>"
      ],
      "text/plain": [
       "   Survived  Pclass     Sex   Age  SibSp  Parch            Ticket     Fare  \\\n",
       "0         0       3    male  22.0      1      0         A/5 21171   7.2500   \n",
       "1         1       1  female  38.0      1      0          PC 17599  71.2833   \n",
       "2         1       3  female  26.0      0      0  STON/O2. 3101282   7.9250   \n",
       "3         1       1  female  35.0      1      0            113803  53.1000   \n",
       "4         0       3    male  35.0      0      0            373450   8.0500   \n",
       "\n",
       "  Embarked  Title  FamilySize  \n",
       "0        S      1           2  \n",
       "1        C      3           2  \n",
       "2        S      2           1  \n",
       "3        S      3           2  \n",
       "4        S      1           1  "
      ]
     },
     "execution_count": 44,
     "metadata": {},
     "output_type": "execute_result"
    }
   ],
   "source": [
    "train_data['FamilySize'] = train_data['SibSp'] + train_data['Parch'] + 1\n",
    "train_data.head()"
   ]
  },
  {
   "cell_type": "code",
   "execution_count": 45,
   "id": "7928e7d8",
   "metadata": {
    "execution": {
     "iopub.execute_input": "2023-08-10T14:58:59.166772Z",
     "iopub.status.busy": "2023-08-10T14:58:59.166309Z",
     "iopub.status.idle": "2023-08-10T14:58:59.176288Z",
     "shell.execute_reply": "2023-08-10T14:58:59.174837Z"
    },
    "papermill": {
     "duration": 0.048427,
     "end_time": "2023-08-10T14:58:59.179543",
     "exception": false,
     "start_time": "2023-08-10T14:58:59.131116",
     "status": "completed"
    },
    "tags": []
   },
   "outputs": [],
   "source": [
    "train_data.drop(columns=['SibSp','Parch','Ticket'],inplace=True)"
   ]
  },
  {
   "cell_type": "code",
   "execution_count": 46,
   "id": "cd88e427",
   "metadata": {
    "execution": {
     "iopub.execute_input": "2023-08-10T14:58:59.250084Z",
     "iopub.status.busy": "2023-08-10T14:58:59.249613Z",
     "iopub.status.idle": "2023-08-10T14:58:59.280022Z",
     "shell.execute_reply": "2023-08-10T14:58:59.278747Z"
    },
    "papermill": {
     "duration": 0.068708,
     "end_time": "2023-08-10T14:58:59.282894",
     "exception": false,
     "start_time": "2023-08-10T14:58:59.214186",
     "status": "completed"
    },
    "tags": []
   },
   "outputs": [
    {
     "data": {
      "text/html": [
       "<div>\n",
       "<style scoped>\n",
       "    .dataframe tbody tr th:only-of-type {\n",
       "        vertical-align: middle;\n",
       "    }\n",
       "\n",
       "    .dataframe tbody tr th {\n",
       "        vertical-align: top;\n",
       "    }\n",
       "\n",
       "    .dataframe thead th {\n",
       "        text-align: right;\n",
       "    }\n",
       "</style>\n",
       "<table border=\"1\" class=\"dataframe\">\n",
       "  <thead>\n",
       "    <tr style=\"text-align: right;\">\n",
       "      <th></th>\n",
       "      <th>Survived</th>\n",
       "      <th>Pclass</th>\n",
       "      <th>Age</th>\n",
       "      <th>Fare</th>\n",
       "      <th>Title</th>\n",
       "      <th>FamilySize</th>\n",
       "      <th>Sex_male</th>\n",
       "      <th>Embarked_Q</th>\n",
       "      <th>Embarked_S</th>\n",
       "    </tr>\n",
       "  </thead>\n",
       "  <tbody>\n",
       "    <tr>\n",
       "      <th>0</th>\n",
       "      <td>0</td>\n",
       "      <td>3</td>\n",
       "      <td>22.0</td>\n",
       "      <td>7.2500</td>\n",
       "      <td>1</td>\n",
       "      <td>2</td>\n",
       "      <td>1</td>\n",
       "      <td>0</td>\n",
       "      <td>1</td>\n",
       "    </tr>\n",
       "    <tr>\n",
       "      <th>1</th>\n",
       "      <td>1</td>\n",
       "      <td>1</td>\n",
       "      <td>38.0</td>\n",
       "      <td>71.2833</td>\n",
       "      <td>3</td>\n",
       "      <td>2</td>\n",
       "      <td>0</td>\n",
       "      <td>0</td>\n",
       "      <td>0</td>\n",
       "    </tr>\n",
       "    <tr>\n",
       "      <th>2</th>\n",
       "      <td>1</td>\n",
       "      <td>3</td>\n",
       "      <td>26.0</td>\n",
       "      <td>7.9250</td>\n",
       "      <td>2</td>\n",
       "      <td>1</td>\n",
       "      <td>0</td>\n",
       "      <td>0</td>\n",
       "      <td>1</td>\n",
       "    </tr>\n",
       "    <tr>\n",
       "      <th>3</th>\n",
       "      <td>1</td>\n",
       "      <td>1</td>\n",
       "      <td>35.0</td>\n",
       "      <td>53.1000</td>\n",
       "      <td>3</td>\n",
       "      <td>2</td>\n",
       "      <td>0</td>\n",
       "      <td>0</td>\n",
       "      <td>1</td>\n",
       "    </tr>\n",
       "    <tr>\n",
       "      <th>4</th>\n",
       "      <td>0</td>\n",
       "      <td>3</td>\n",
       "      <td>35.0</td>\n",
       "      <td>8.0500</td>\n",
       "      <td>1</td>\n",
       "      <td>1</td>\n",
       "      <td>1</td>\n",
       "      <td>0</td>\n",
       "      <td>1</td>\n",
       "    </tr>\n",
       "  </tbody>\n",
       "</table>\n",
       "</div>"
      ],
      "text/plain": [
       "   Survived  Pclass   Age     Fare  Title  FamilySize  Sex_male  Embarked_Q  \\\n",
       "0         0       3  22.0   7.2500      1           2         1           0   \n",
       "1         1       1  38.0  71.2833      3           2         0           0   \n",
       "2         1       3  26.0   7.9250      2           1         0           0   \n",
       "3         1       1  35.0  53.1000      3           2         0           0   \n",
       "4         0       3  35.0   8.0500      1           1         1           0   \n",
       "\n",
       "   Embarked_S  \n",
       "0           1  \n",
       "1           0  \n",
       "2           1  \n",
       "3           1  \n",
       "4           1  "
      ]
     },
     "execution_count": 46,
     "metadata": {},
     "output_type": "execute_result"
    }
   ],
   "source": [
    "train_data= pd.get_dummies(train_data,drop_first =True)\n",
    "train_data.head()"
   ]
  },
  {
   "cell_type": "code",
   "execution_count": 47,
   "id": "64386e6f",
   "metadata": {
    "execution": {
     "iopub.execute_input": "2023-08-10T14:58:59.352207Z",
     "iopub.status.busy": "2023-08-10T14:58:59.350937Z",
     "iopub.status.idle": "2023-08-10T14:58:59.363329Z",
     "shell.execute_reply": "2023-08-10T14:58:59.361891Z"
    },
    "papermill": {
     "duration": 0.049853,
     "end_time": "2023-08-10T14:58:59.366281",
     "exception": false,
     "start_time": "2023-08-10T14:58:59.316428",
     "status": "completed"
    },
    "tags": []
   },
   "outputs": [
    {
     "data": {
      "text/plain": [
       "Survived      1.000000\n",
       "Title         0.373139\n",
       "Fare          0.257307\n",
       "FamilySize    0.016639\n",
       "Embarked_Q    0.003650\n",
       "Age          -0.064910\n",
       "Embarked_S   -0.149683\n",
       "Pclass       -0.338481\n",
       "Sex_male     -0.543351\n",
       "Name: Survived, dtype: float64"
      ]
     },
     "execution_count": 47,
     "metadata": {},
     "output_type": "execute_result"
    }
   ],
   "source": [
    "train_data.corr()['Survived'].sort_values(ascending = False)"
   ]
  },
  {
   "cell_type": "code",
   "execution_count": 48,
   "id": "c55b9e9e",
   "metadata": {
    "execution": {
     "iopub.execute_input": "2023-08-10T14:58:59.437322Z",
     "iopub.status.busy": "2023-08-10T14:58:59.436881Z",
     "iopub.status.idle": "2023-08-10T14:58:59.449383Z",
     "shell.execute_reply": "2023-08-10T14:58:59.447942Z"
    },
    "papermill": {
     "duration": 0.051964,
     "end_time": "2023-08-10T14:58:59.452578",
     "exception": false,
     "start_time": "2023-08-10T14:58:59.400614",
     "status": "completed"
    },
    "tags": []
   },
   "outputs": [],
   "source": [
    "# Splitting the data\n",
    "X = train_data.drop(['Survived'],axis = 1) \n",
    "y = train_data['Survived']\n",
    "\n",
    "X_train, X_test, y_train, y_test = train_test_split(X, y, test_size=0.25, random_state=42)"
   ]
  },
  {
   "cell_type": "code",
   "execution_count": 49,
   "id": "9f62fe00",
   "metadata": {
    "execution": {
     "iopub.execute_input": "2023-08-10T14:58:59.522741Z",
     "iopub.status.busy": "2023-08-10T14:58:59.521366Z",
     "iopub.status.idle": "2023-08-10T14:58:59.534091Z",
     "shell.execute_reply": "2023-08-10T14:58:59.532998Z"
    },
    "papermill": {
     "duration": 0.050353,
     "end_time": "2023-08-10T14:58:59.537043",
     "exception": false,
     "start_time": "2023-08-10T14:58:59.486690",
     "status": "completed"
    },
    "tags": []
   },
   "outputs": [],
   "source": [
    "# Scaling the data\n",
    "ss = StandardScaler()\n",
    "X_train = ss.fit_transform(X_train)\n",
    "X_test = ss.transform(X_test)"
   ]
  },
  {
   "cell_type": "markdown",
   "id": "cc7aea43",
   "metadata": {
    "papermill": {
     "duration": 0.032746,
     "end_time": "2023-08-10T14:58:59.604421",
     "exception": false,
     "start_time": "2023-08-10T14:58:59.571675",
     "status": "completed"
    },
    "tags": []
   },
   "source": [
    "## Modeling"
   ]
  },
  {
   "cell_type": "code",
   "execution_count": 50,
   "id": "3ed435c8",
   "metadata": {
    "execution": {
     "iopub.execute_input": "2023-08-10T14:58:59.674007Z",
     "iopub.status.busy": "2023-08-10T14:58:59.672856Z",
     "iopub.status.idle": "2023-08-10T14:58:59.692744Z",
     "shell.execute_reply": "2023-08-10T14:58:59.691140Z"
    },
    "papermill": {
     "duration": 0.057838,
     "end_time": "2023-08-10T14:58:59.695782",
     "exception": false,
     "start_time": "2023-08-10T14:58:59.637944",
     "status": "completed"
    },
    "tags": []
   },
   "outputs": [
    {
     "name": "stdout",
     "output_type": "stream",
     "text": [
      "              precision    recall  f1-score   support\n",
      "\n",
      "           0       0.83      0.82      0.82       134\n",
      "           1       0.73      0.74      0.74        89\n",
      "\n",
      "    accuracy                           0.79       223\n",
      "   macro avg       0.78      0.78      0.78       223\n",
      "weighted avg       0.79      0.79      0.79       223\n",
      "\n"
     ]
    }
   ],
   "source": [
    "# Logistic Regression\n",
    "logreg = LogisticRegression()\n",
    "logreg.fit(X_train, y_train)\n",
    "y_pred = logreg.predict(X_test)\n",
    "print(classification_report(y_test,y_pred))"
   ]
  },
  {
   "cell_type": "code",
   "execution_count": 51,
   "id": "6134d1ac",
   "metadata": {
    "execution": {
     "iopub.execute_input": "2023-08-10T14:58:59.767182Z",
     "iopub.status.busy": "2023-08-10T14:58:59.766432Z",
     "iopub.status.idle": "2023-08-10T14:58:59.797807Z",
     "shell.execute_reply": "2023-08-10T14:58:59.796763Z"
    },
    "papermill": {
     "duration": 0.069868,
     "end_time": "2023-08-10T14:58:59.800895",
     "exception": false,
     "start_time": "2023-08-10T14:58:59.731027",
     "status": "completed"
    },
    "tags": []
   },
   "outputs": [
    {
     "name": "stdout",
     "output_type": "stream",
     "text": [
      "              precision    recall  f1-score   support\n",
      "\n",
      "           0       0.83      0.90      0.86       134\n",
      "           1       0.82      0.73      0.77        89\n",
      "\n",
      "    accuracy                           0.83       223\n",
      "   macro avg       0.83      0.81      0.82       223\n",
      "weighted avg       0.83      0.83      0.83       223\n",
      "\n"
     ]
    }
   ],
   "source": [
    "# Support Vector Machines\n",
    "svc = SVC()\n",
    "svc.fit(X_train, y_train)\n",
    "y_pred = svc.predict(X_test)\n",
    "print(classification_report(y_test,y_pred))"
   ]
  },
  {
   "cell_type": "code",
   "execution_count": 52,
   "id": "ebd0adab",
   "metadata": {
    "execution": {
     "iopub.execute_input": "2023-08-10T14:58:59.873955Z",
     "iopub.status.busy": "2023-08-10T14:58:59.872494Z",
     "iopub.status.idle": "2023-08-10T14:58:59.879270Z",
     "shell.execute_reply": "2023-08-10T14:58:59.877983Z"
    },
    "papermill": {
     "duration": 0.046866,
     "end_time": "2023-08-10T14:58:59.882378",
     "exception": false,
     "start_time": "2023-08-10T14:58:59.835512",
     "status": "completed"
    },
    "tags": []
   },
   "outputs": [],
   "source": [
    "#params = {'n_estimators': [100,500,1000],\n",
    "#          'max_features': ['sqrt', 'log2'], \n",
    "#          'max_depth' : [2,5,8],\n",
    "#          'min_samples_leaf':[1,4,8]}\n",
    "\n",
    "#grid_search_cv = GridSearchCV(RandomForestClassifier(), params, n_jobs=-1)\n",
    "#grid_search_cv.fit(X_train, y_train)\n",
    "#grid_search_cv.best_estimator_"
   ]
  },
  {
   "cell_type": "code",
   "execution_count": 53,
   "id": "2e3143b3",
   "metadata": {
    "execution": {
     "iopub.execute_input": "2023-08-10T14:58:59.956621Z",
     "iopub.status.busy": "2023-08-10T14:58:59.955719Z",
     "iopub.status.idle": "2023-08-10T14:59:02.377343Z",
     "shell.execute_reply": "2023-08-10T14:59:02.376148Z"
    },
    "papermill": {
     "duration": 2.462902,
     "end_time": "2023-08-10T14:59:02.380751",
     "exception": false,
     "start_time": "2023-08-10T14:58:59.917849",
     "status": "completed"
    },
    "tags": []
   },
   "outputs": [
    {
     "name": "stdout",
     "output_type": "stream",
     "text": [
      "              precision    recall  f1-score   support\n",
      "\n",
      "           0       0.84      0.90      0.87       134\n",
      "           1       0.82      0.74      0.78        89\n",
      "\n",
      "    accuracy                           0.83       223\n",
      "   macro avg       0.83      0.82      0.82       223\n",
      "weighted avg       0.83      0.83      0.83       223\n",
      "\n"
     ]
    }
   ],
   "source": [
    "# Random Forest\n",
    "randomforest = RandomForestClassifier(max_depth=5, max_features='log2', n_estimators=1000)\n",
    "randomforest.fit(X_train, y_train)\n",
    "y_pred = randomforest.predict(X_test)\n",
    "print(classification_report(y_test,y_pred))"
   ]
  },
  {
   "cell_type": "code",
   "execution_count": 54,
   "id": "076d9350",
   "metadata": {
    "execution": {
     "iopub.execute_input": "2023-08-10T14:59:02.451639Z",
     "iopub.status.busy": "2023-08-10T14:59:02.451146Z",
     "iopub.status.idle": "2023-08-10T14:59:02.584980Z",
     "shell.execute_reply": "2023-08-10T14:59:02.583306Z"
    },
    "papermill": {
     "duration": 0.172972,
     "end_time": "2023-08-10T14:59:02.587811",
     "exception": false,
     "start_time": "2023-08-10T14:59:02.414839",
     "status": "completed"
    },
    "tags": []
   },
   "outputs": [
    {
     "name": "stdout",
     "output_type": "stream",
     "text": [
      "              precision    recall  f1-score   support\n",
      "\n",
      "           0       0.84      0.88      0.86       134\n",
      "           1       0.81      0.75      0.78        89\n",
      "\n",
      "    accuracy                           0.83       223\n",
      "   macro avg       0.83      0.82      0.82       223\n",
      "weighted avg       0.83      0.83      0.83       223\n",
      "\n"
     ]
    }
   ],
   "source": [
    "# Gradient Boosting Classifier\n",
    "gbk = GradientBoostingClassifier()\n",
    "gbk.fit(X_train, y_train)\n",
    "y_pred = gbk.predict(X_test)\n",
    "print(classification_report(y_test,y_pred))"
   ]
  },
  {
   "cell_type": "code",
   "execution_count": 55,
   "id": "c5e222b7",
   "metadata": {
    "execution": {
     "iopub.execute_input": "2023-08-10T14:59:02.658435Z",
     "iopub.status.busy": "2023-08-10T14:59:02.657715Z",
     "iopub.status.idle": "2023-08-10T14:59:02.663895Z",
     "shell.execute_reply": "2023-08-10T14:59:02.662327Z"
    },
    "papermill": {
     "duration": 0.045514,
     "end_time": "2023-08-10T14:59:02.666806",
     "exception": false,
     "start_time": "2023-08-10T14:59:02.621292",
     "status": "completed"
    },
    "tags": []
   },
   "outputs": [],
   "source": [
    "#params = {'n_estimators': [100,500,1000],\n",
    "#         'learning_rate': [0.001,0.01,0.5,0.1]}\n",
    "\n",
    "#grid_search_cv = GridSearchCV(AdaBoostClassifier(), params, n_jobs=-1)\n",
    "#grid_search_cv.fit(X_train, y_train)\n",
    "#grid_search_cv.best_estimator_"
   ]
  },
  {
   "cell_type": "code",
   "execution_count": 56,
   "id": "3acca2cc",
   "metadata": {
    "execution": {
     "iopub.execute_input": "2023-08-10T14:59:02.738183Z",
     "iopub.status.busy": "2023-08-10T14:59:02.737657Z",
     "iopub.status.idle": "2023-08-10T14:59:03.994205Z",
     "shell.execute_reply": "2023-08-10T14:59:03.992277Z"
    },
    "papermill": {
     "duration": 1.295424,
     "end_time": "2023-08-10T14:59:03.997195",
     "exception": false,
     "start_time": "2023-08-10T14:59:02.701771",
     "status": "completed"
    },
    "tags": []
   },
   "outputs": [
    {
     "name": "stdout",
     "output_type": "stream",
     "text": [
      "              precision    recall  f1-score   support\n",
      "\n",
      "           0       0.86      0.86      0.86       134\n",
      "           1       0.79      0.79      0.79        89\n",
      "\n",
      "    accuracy                           0.83       223\n",
      "   macro avg       0.82      0.82      0.82       223\n",
      "weighted avg       0.83      0.83      0.83       223\n",
      "\n"
     ]
    }
   ],
   "source": [
    "# AdaBoost Classifier\n",
    "clf = AdaBoostClassifier(learning_rate=0.5, n_estimators=500)\n",
    "clf.fit(X_train,y_train)\n",
    "y_pred = clf.predict(X_test)\n",
    "print(classification_report(y_test,y_pred))"
   ]
  },
  {
   "cell_type": "markdown",
   "id": "84c92079",
   "metadata": {
    "papermill": {
     "duration": 0.034132,
     "end_time": "2023-08-10T14:59:04.583456",
     "exception": false,
     "start_time": "2023-08-10T14:59:04.549324",
     "status": "completed"
    },
    "tags": []
   },
   "source": [
    "## ★·.·´¯`·.·★ Ｔℍᗩ𝕟Ⓚ ㄚ𝕠𝓤 ★·.·´¯`·.·★"
   ]
  }
 ],
 "metadata": {
  "kernelspec": {
   "display_name": "Python 3 (ipykernel)",
   "language": "python",
   "name": "python3"
  },
  "language_info": {
   "codemirror_mode": {
    "name": "ipython",
    "version": 3
   },
   "file_extension": ".py",
   "mimetype": "text/x-python",
   "name": "python",
   "nbconvert_exporter": "python",
   "pygments_lexer": "ipython3",
   "version": "3.10.9"
  },
  "papermill": {
   "default_parameters": {},
   "duration": 30.327282,
   "end_time": "2023-08-10T14:59:05.609868",
   "environment_variables": {},
   "exception": null,
   "input_path": "__notebook__.ipynb",
   "output_path": "__notebook__.ipynb",
   "parameters": {},
   "start_time": "2023-08-10T14:58:35.282586",
   "version": "2.3.4"
  }
 },
 "nbformat": 4,
 "nbformat_minor": 5
}
